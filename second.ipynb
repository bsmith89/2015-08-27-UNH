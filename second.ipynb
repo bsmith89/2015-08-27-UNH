{
 "cells": [
  {
   "cell_type": "code",
   "execution_count": null,
   "metadata": {},
   "outputs": [],
   "source": [
    "import numpy as np\n",
    "#np.loadtxt()\n",
    "# May throw error"
   ]
  },
  {
   "cell_type": "code",
   "execution_count": null,
   "metadata": {},
   "outputs": [],
   "source": [
    "print len(range(10))"
   ]
  },
  {
   "cell_type": "code",
   "execution_count": null,
   "metadata": {},
   "outputs": [],
   "source": [
    "def celsius_to_fahr(temp):\n",
    "    temp_in_fahr = (9 / 5) * temp + 32\n",
    "    return temp_in_fahr"
   ]
  },
  {
   "cell_type": "code",
   "execution_count": null,
   "metadata": {},
   "outputs": [],
   "source": [
    "celsius_to_fahr(10)"
   ]
  },
  {
   "cell_type": "code",
   "execution_count": null,
   "metadata": {},
   "outputs": [],
   "source": [
    "def celsius_to_fahr(temp):\n",
    "    temp_in_fahr = (9.0 / 5) * temp + 32\n",
    "    return temp_in_fahr\n",
    "celsius_to_fahr(10)"
   ]
  },
  {
   "cell_type": "code",
   "execution_count": null,
   "metadata": {},
   "outputs": [],
   "source": [
    "def fahrenheit_to_celsius(temp_in_f):\n",
    "    return (5.0 / 9.0) * (temp_in_f - 32)\n",
    "\n",
    "fahrenheit_to_celsius(33)"
   ]
  },
  {
   "cell_type": "code",
   "execution_count": null,
   "metadata": {},
   "outputs": [],
   "source": [
    "def celsius_to_kelvin(temp_in_c):\n",
    "    return temp_in_c + 273.15\n",
    "\n",
    "celsius_to_kelvin(10)"
   ]
  },
  {
   "cell_type": "code",
   "execution_count": null,
   "metadata": {},
   "outputs": [],
   "source": [
    "celsius_to_kelvin(fahrenheit_to_celsius(33))"
   ]
  },
  {
   "cell_type": "code",
   "execution_count": null,
   "metadata": {},
   "outputs": [],
   "source": [
    "def does_nothing_at_all():\n",
    "    print \"nothing at all\"\n",
    "   print \"nothing at all\"\n",
    "# throws an indentation error"
   ]
  },
  {
   "cell_type": "code",
   "execution_count": null,
   "metadata": {},
   "outputs": [],
   "source": [
    "def does_nothing_at_all():\n",
    "    print \"nothing at all\"\n",
    "    print \"nothing at all\n",
    "# Throws a syntax error"
   ]
  },
  {
   "cell_type": "code",
   "execution_count": null,
   "metadata": {},
   "outputs": [],
   "source": [
    "def does_nothing_at_all()\n",
    "    print \"nothing at all\"\n",
    "    print \"nothing at all\""
   ]
  },
  {
   "cell_type": "code",
   "execution_count": null,
   "metadata": {},
   "outputs": [],
   "source": [
    "def does_nothing_at_all2(the_thing):\n",
    "    print the_thing\n",
    "    \n",
    "does_nothing_at_all2()"
   ]
  },
  {
   "cell_type": "code",
   "execution_count": null,
   "metadata": {},
   "outputs": [],
   "source": [
    "def fahrenheit_to_celsius2():\n",
    "    return (5.0 / 9.0) * (temp_in_f - 32)\n",
    "\n",
    "def fahr_to_kelv(temp_in_f):\n",
    "    return celsius_to_kelvin(fahrenheit_to_celsius2(temp_in_f))\n",
    "\n",
    "fahr_to_kelv(-100)"
   ]
  },
  {
   "cell_type": "code",
   "execution_count": null,
   "metadata": {},
   "outputs": [],
   "source": [
    "message = \"\"\n",
    "for number in range(10):\n",
    "    # use 'a' if the number is a multiple of 3, otherwise 'b'\n",
    "    if (number % 3) == 0:\n",
    "        message = message + \"a\"\n",
    "    else:\n",
    "        message = message + \"b\"\n",
    "print message\n",
    "\n",
    "# Without running this code, what can you see that is wrong?"
   ]
  },
  {
   "cell_type": "code",
   "execution_count": null,
   "metadata": {},
   "outputs": [],
   "source": [
    "def abba(length):\n",
    "    \"\"\"Write message of *length* with 'a' every third letter.\n",
    "    \n",
    "    *length* is the length of the message\n",
    "    \n",
    "    \"\"\"\n",
    "    message = \"\"\n",
    "    for number in range(length):\n",
    "        # use 'a' if the number is a multiple of 3, otherwise 'b'\n",
    "        if (number % 3) == 0:\n",
    "            message = message + \"a\"\n",
    "        else:\n",
    "            message = message + \"b\"\n",
    "    print message\n",
    "\n",
    "abba(15)"
   ]
  },
  {
   "cell_type": "code",
   "execution_count": null,
   "metadata": {},
   "outputs": [],
   "source": [
    "help(abba)"
   ]
  },
  {
   "cell_type": "code",
   "execution_count": null,
   "metadata": {},
   "outputs": [],
   "source": [
    "acca = abba\n",
    "help(acca)"
   ]
  },
  {
   "cell_type": "code",
   "execution_count": null,
   "metadata": {},
   "outputs": [],
   "source": [
    "def abba(length=10):\n",
    "    \"\"\"Write message of *length* with 'a' every third letter.\n",
    "    \n",
    "    *length* is the length of the message\n",
    "    \n",
    "    \"\"\"\n",
    "    message = \"\"\n",
    "    for number in range(length):\n",
    "        # use 'a' if the number is a multiple of 3, otherwise 'b'\n",
    "        if (number % 3) == 0:\n",
    "            message = message + \"a\"\n",
    "        else:\n",
    "            message = message + \"b\"\n",
    "    print message\n",
    "\n",
    "abba()"
   ]
  },
  {
   "cell_type": "code",
   "execution_count": null,
   "metadata": {},
   "outputs": [],
   "source": [
    "def abba(length, third=\"a\", others=\"b\"):\n",
    "    \"\"\"Write message of *length* with 'a' every third letter.\n",
    "    \n",
    "    *length* is the length of the message\n",
    "    \n",
    "    \"\"\"\n",
    "    message = \"\"\n",
    "    for number in range(length):\n",
    "        # use 'a' if the number is a multiple of 3, otherwise 'b'\n",
    "        if (number % 3) == 0:\n",
    "            message = message + third\n",
    "        else:\n",
    "            message = message + others\n",
    "    print message\n",
    "\n",
    "abba(10, \"z\")\n",
    "abba(length=10, third=\"d\")\n",
    "abba(10, third=\"d\", others=\"@\")"
   ]
  },
  {
   "cell_type": "code",
   "execution_count": null,
   "metadata": {},
   "outputs": [],
   "source": [
    "abba?"
   ]
  },
  {
   "cell_type": "code",
   "execution_count": null,
   "metadata": {},
   "outputs": [],
   "source": [
    "np.loadtxt"
   ]
  }
 ],
 "metadata": {
  "kernelspec": {
   "display_name": "Python 2",
   "language": "python",
   "name": "python2"
  },
  "language_info": {
   "codemirror_mode": {
    "name": "ipython",
    "version": 2
   },
   "file_extension": ".py",
   "mimetype": "text/x-python",
   "name": "python",
   "nbconvert_exporter": "python",
   "pygments_lexer": "ipython2",
   "version": "2.7.9"
  }
 },
 "nbformat": 4,
 "nbformat_minor": 0
}
