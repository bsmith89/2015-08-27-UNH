{
 "cells": [
  {
   "cell_type": "markdown",
   "metadata": {},
   "source": [
    "# Creating a word cloud from sticky note feedback\n",
    "\n",
    "A Google search of \"python word cloud\" has this for the first result: https://github.com/amueller/word_cloud. Perfect. As expected, someone has already thought about this and went through all the trouble to make a package and put it on GitHub and the Python Package Index (PyPI) for us all to use. \n",
    "\n",
    "Note that in `amueller`'s readme, the `wordcloud` package is installable via `pip` (since it has been uploaded to PyPI). This means installation is as simple as (from the shell):\n",
    "\n",
    "```bash\n",
    "pip install wordcloud\n",
    "```\n",
    "\n",
    "\n",
    "## Windows troubles\n",
    "\n",
    "If you run `pip install wordcloud` on Windows (like I did), you'll probably get an error like this:\n",
    "\n",
    "\n",
    "```bash\n",
    "Failed to build wordcloud\n",
    "Installing collected packages: wordcloud\n",
    "  Running setup.py install for wordcloud\n",
    "    Complete output from command C:\\Users\\Pete\\Anaconda3\\envs\\py27\\python.exe -c \"import setuptools, tokenize;__file__='c:\\\\users\\\\pete\\\\appdata\\\\local\\\\temp\\\\pip-build-fakcaf\\\\wordcloud\\\\setup.py';exec(compile(getattr(tokenize, 'open', open)(__file__).read().replace('\\r\\n', '\\n'), __file__, 'exec'))\" install --record c:\\users\\pete\\appdata\\local\\temp\\pip-bp1q1a-record\\install-record.txt --single-version-externally-managed --compile:\n",
    "    running install\n",
    "    running build\n",
    "    running build_py\n",
    "    running build_ext\n",
    "    building 'wordcloud.query_integral_image' extension\n",
    "    error: Microsoft Visual C++ 9.0 is required (Unable to find vcvarsall.bat). Get it from http://aka.ms/vcpython27\n",
    "\n",
    "    ----------------------------------------\n",
    "Command \"C:\\Users\\Pete\\Anaconda3\\envs\\py27\\python.exe -c \"import setuptools, tokenize;__file__='c:\\\\users\\\\pete\\\\appdata\\\\local\\\\temp\\\\pip-build-fakcaf\\\\wordcloud\\\\setup.py';exec(compile(getattr(tokenize, 'open', open)(__file__).read().replace('\\r\\n', '\\n'), __file__, 'exec'))\" install --record c:\\users\\pete\\appdata\\local\\temp\\pip-bp1q1a-record\\install-record.txt --single-version-externally-managed --compile\" failed with error code 1 in c:\\users\\pete\\appdata\\local\\temp\\pip-build-fakcaf\\wordcloud\n",
    "```\n",
    "\n",
    "\n",
    "There's a link in that error message (http://aka.ms/vcpython27), which is telling us to download and install a C++ compiler for Python. So let's do that and run `pip install wordcloud` again and we should get something like\n",
    "\n",
    "\n",
    "```bash\n",
    "Building wheels for collected packages: wordcloud\n",
    "  Running setup.py bdist_wheel for wordcloud\n",
    "  Stored in directory: C:\\Users\\Pete\\AppData\\Local\\pip\\Cache\\wheels\\32\\a9\\74\\58e379e5dc614bfd9dd9832d67608faac9b2bc6c194d6f6df5\n",
    "Successfully built wordcloud\n",
    "Installing collected packages: wordcloud\n",
    "Successfully installed wordcloud-1.1.3\n",
    "```\n",
    "\n",
    "Okay, we should be good to go!\n",
    "\n",
    "\n",
    "## Installing the rest of the dependencies\n",
    "\n",
    "Looking in https://github.com/amueller/word_cloud/blob/master/requirements.txt, we see that the `Image` package is also a requirement, so we can install with (from the shell):\n",
    "\n",
    "    conda install PIL\n",
    "\n",
    "and we should be good to go! Why not `conda install Image`? This might be outdated documentation. Looking inside the code, we see that `Image` is imported from `PIL`: https://github.com/amueller/word_cloud/blob/master/wordcloud/wordcloud.py#L16"
   ]
  },
  {
   "cell_type": "code",
   "execution_count": null,
   "metadata": {
    "collapsed": false
   },
   "outputs": [],
   "source": [
    "# We want this to be masked like the example at https://github.com/amueller/word_cloud/blob/master/examples/masked.py\n",
    "# The code will be adapted from that\n",
    "from __future__ import division, print_function\n",
    "import numpy as np\n",
    "import matplotlib.pyplot as plt\n",
    "%matplotlib inline\n",
    "from wordcloud import WordCloud\n",
    "\n",
    "# Read the whole text from the positive feedback, omitting blank lines and ones that begin with `#`\n",
    "text = \"\"\n",
    "with open(\"data/feedback_positive.txt\") as f:\n",
    "    for line in f:\n",
    "        if not line.strip().startswith(\"#\") and len(line.strip()) > 0:\n",
    "            text += line\n",
    "\n",
    "print(text)"
   ]
  },
  {
   "cell_type": "code",
   "execution_count": null,
   "metadata": {
    "collapsed": false
   },
   "outputs": [],
   "source": [
    "# There are some unclear comments in there that shouldn't make it into the word cloud\n",
    "# We can get rid of these using regular expressions, which are built into Python\n",
    "# See http://stackoverflow.com/questions/640001/how-can-i-remove-text-within-parentheses-with-a-regex\n",
    "\n",
    "import re\n",
    "\n",
    "text = re.sub(r\"\\[.*?\\]\", \"\", text)\n",
    "\n",
    "print(text)"
   ]
  },
  {
   "cell_type": "code",
   "execution_count": null,
   "metadata": {
    "collapsed": false
   },
   "outputs": [],
   "source": [
    "from PIL import Image\n",
    "\n",
    "# Read the mask image\n",
    "logos_mask = np.array(Image.open(\"images/logos.png\"))\n",
    "\n",
    "wc = WordCloud(background_color=\"white\", max_words=20000, mask=logos_mask)\n",
    "# Renerate word cloud\n",
    "wc.generate(text)\n",
    "\n",
    "# Store to file\n",
    "wc.to_file(\"images/wordcloud_raw.png\")\n",
    "\n",
    "# Get the size of the image\n",
    "size_pixels = np.array(logos_mask.shape[:-1])\n",
    "dpi = 60\n",
    "size_inches = size_pixels/dpi\n",
    "\n",
    "# Show the wordcloud with matplotlib\n",
    "plt.figure(figsize=size_inches)\n",
    "plt.imshow(wc)\n",
    "plt.axis(\"off\")\n",
    "plt.show()"
   ]
  },
  {
   "cell_type": "code",
   "execution_count": null,
   "metadata": {
    "collapsed": false
   },
   "outputs": [],
   "source": [
    "# That wordcloud is hard to distinguish, so let's add a semi-transparent version of the mask image\n",
    "\n",
    "# From http://stackoverflow.com/questions/10640114/overlay-two-same-sized-images-in-python\n",
    "background = Image.open(\"images/logos.png\").convert(\"RGBA\")\n",
    "wordcloud = Image.open(\"images/wordcloud_raw.png\").convert(\"RGBA\")\n",
    "blended = Image.blend(wordcloud, background, 0.1)\n",
    "blended.save(\"images/unh_swc_wordcloud.png\", \"PNG\")\n",
    "\n",
    "# Show the new blended image with matlotlib\n",
    "plt.figure(figsize=size_inches)\n",
    "plt.imshow(blended)\n",
    "plt.axis(\"off\")\n",
    "plt.show()"
   ]
  }
 ],
 "metadata": {
  "kernelspec": {
   "display_name": "Python 2",
   "language": "python",
   "name": "python2"
  },
  "language_info": {
   "codemirror_mode": {
    "name": "ipython",
    "version": 2
   },
   "file_extension": ".py",
   "mimetype": "text/x-python",
   "name": "python",
   "nbconvert_exporter": "python",
   "pygments_lexer": "ipython2",
   "version": "2.7.10"
  }
 },
 "nbformat": 4,
 "nbformat_minor": 0
}
