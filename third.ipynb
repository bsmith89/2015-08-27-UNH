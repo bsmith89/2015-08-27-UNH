{
 "cells": [
  {
   "cell_type": "code",
   "execution_count": null,
   "metadata": {},
   "outputs": [],
   "source": [
    "import numpy as np\n",
    "np.loadtxt?"
   ]
  },
  {
   "cell_type": "code",
   "execution_count": null,
   "metadata": {},
   "outputs": [],
   "source": [
    "def loadtxt(fname):\n",
    "    pass"
   ]
  },
  {
   "cell_type": "code",
   "execution_count": null,
   "metadata": {},
   "outputs": [],
   "source": [
    "for a_name in [\"newton\\n\", \"not_newton\\n\"]:\n",
    "    print a_name"
   ]
  },
  {
   "cell_type": "code",
   "execution_count": null,
   "metadata": {},
   "outputs": [],
   "source": [
    "with open(\"data/inflammation-01.csv\") as a_file:\n",
    "    line_number = 1\n",
    "    print type(a_file)\n",
    "    for line in a_file:\n",
    "        line = line.strip()\n",
    "        print line_number, line\n",
    "        line_number += 1"
   ]
  },
  {
   "cell_type": "code",
   "execution_count": null,
   "metadata": {},
   "outputs": [],
   "source": [
    "with open(\"data/inflammation-01.csv\") as a_file:\n",
    "    line_number = 1\n",
    "    print type(a_file)\n",
    "    for line in a_file:\n",
    "        line = line.strip()\n",
    "        values = line.split(\",\")\n",
    "        print values"
   ]
  },
  {
   "cell_type": "code",
   "execution_count": null,
   "metadata": {},
   "outputs": [],
   "source": [
    "a_string = \"something\"\n",
    "dir(a_string)"
   ]
  },
  {
   "cell_type": "code",
   "execution_count": null,
   "metadata": {},
   "outputs": [],
   "source": [
    "matrix = []\n",
    "with open(\"data/inflammation-01.csv\") as a_file:\n",
    "    line_number = 1\n",
    "    for line in a_file:\n",
    "        line = line.strip()\n",
    "        values = line.split(\",\")\n",
    "        matrix.append(values)\n",
    "print matrix"
   ]
  },
  {
   "cell_type": "code",
   "execution_count": null,
   "metadata": {},
   "outputs": [],
   "source": [
    "print np.array(matrix, dtype='float')"
   ]
  },
  {
   "cell_type": "code",
   "execution_count": null,
   "metadata": {},
   "outputs": [],
   "source": [
    "def loadtxt(fname):\n",
    "    matrix = []\n",
    "    with open(fname) as a_file:\n",
    "        line_number = 1\n",
    "        for line in a_file:\n",
    "            line = line.strip()\n",
    "            values = line.split(\",\")\n",
    "            matrix.append(values)\n",
    "    return np.array(matrix, dtype='float')\n",
    "\n",
    "print loadtxt('data/inflammation-01.csv')"
   ]
  },
  {
   "cell_type": "code",
   "execution_count": null,
   "metadata": {},
   "outputs": [],
   "source": [
    "# rescaled_v = (v - L) / (H - L)\n",
    "def rescale(an_array):\n",
    "    \"\"\"Rescale all values in an array to fall\n",
    "    between 0 and 1.\n",
    "    \n",
    "    \"\"\"\n",
    "    return (an_array - an_array.min()) / \\\n",
    "           (an_array.max() - an_array.min())"
   ]
  },
  {
   "cell_type": "code",
   "execution_count": null,
   "metadata": {},
   "outputs": [],
   "source": [
    "data = loadtxt('data/inflammation-01.csv')\n",
    "smaller = data[:4,:6]\n",
    "print(smaller)"
   ]
  },
  {
   "cell_type": "code",
   "execution_count": null,
   "metadata": {},
   "outputs": [],
   "source": [
    "rescale(smaller)"
   ]
  },
  {
   "cell_type": "code",
   "execution_count": null,
   "metadata": {},
   "outputs": [],
   "source": [
    "def test_rescale():\n",
    "    data = np.array([[1,2,3],[4,5,6]])\n",
    "    out = rescale(data)\n",
    "    assert out.min() == 0\n",
    "    assert out.max() == 1\n",
    "    assert out.shape == data.shape\n",
    "    assert out[0, 0] == 0\n",
    "    assert out[-1, -1] == 1\n",
    "    \n",
    "test_rescale()"
   ]
  },
  {
   "cell_type": "code",
   "execution_count": null,
   "metadata": {},
   "outputs": [],
   "source": [
    "# rescaled_v = (v - L) / (H - L)\n",
    "def rescale(an_array):\n",
    "    \"\"\"Rescale all values in an array to fall\n",
    "    between 0 and 1.\n",
    "    \n",
    "    \"\"\"\n",
    "    assert(an_array.dtype == np.float64)\n",
    "    the_max = an_array.max()\n",
    "    the_min = an_array.min()\n",
    "    assert the_max != the_min\n",
    "    return (an_array - the_min) / \\\n",
    "           (the_max - the_min)\n",
    "\n",
    "rescale(smaller)"
   ]
  },
  {
   "cell_type": "code",
   "execution_count": null,
   "metadata": {},
   "outputs": [],
   "source": [
    "new_data = np.array([0.0, 0.0, 0.0, 0.0])\n",
    "rescale(new_data)\n",
    "# Should fail with an assertion error"
   ]
  }
 ],
 "metadata": {
  "kernelspec": {
   "display_name": "Python 2",
   "language": "python",
   "name": "python2"
  },
  "language_info": {
   "codemirror_mode": {
    "name": "ipython",
    "version": 2
   },
   "file_extension": ".py",
   "mimetype": "text/x-python",
   "name": "python",
   "nbconvert_exporter": "python",
   "pygments_lexer": "ipython2",
   "version": "2.7.9"
  }
 },
 "nbformat": 4,
 "nbformat_minor": 0
}
