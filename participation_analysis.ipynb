{
 "cells": [
  {
   "cell_type": "markdown",
   "metadata": {},
   "source": [
    "# Analyzing UNH Software Carpentry workshop interest, registration, and attendance\n",
    "\n",
    "In this notebook we will analyze some of the data collected from the [Software Carpentry workshop at the UNH School of Marine Science and Ocean Engineering](http://bsmith89.github.io/2015-08-27-unh/). From the workshop, we have anonymized data from initial interest emails, registration, and sign-in sheets. Our ultimate goal is to plot the per department and per job title counts for each time period in a stacked bar chart. Along the way we will clean up and manipulate the data, create plots, then get the plots to look right."
   ]
  },
  {
   "cell_type": "code",
   "execution_count": null,
   "metadata": {
    "collapsed": false
   },
   "outputs": [],
   "source": [
    "# Import some stuff we will need\n",
    "# First, import from __future__ so our code will run on both Python 2 and 3\n",
    "from __future__ import division, print_function\n",
    "import os\n",
    "import pandas as pd\n",
    "import matplotlib.pyplot as plt\n",
    "%matplotlib inline\n",
    "\n",
    "# Try to import Seaborn to make plots pretty\n",
    "try:\n",
    "    import seaborn\n",
    "    seaborn.set(style=\"white\", context=\"notebook\", font_scale=1.5)\n",
    "except ImportError:\n",
    "    print(\"Cannot import Seaborn. Try:\\n\\n    conda install seaborn\\n\")\n",
    "\n",
    "# See what data files we have available\n",
    "os.listdir(\"data/anonymized/\")"
   ]
  },
  {
   "cell_type": "code",
   "execution_count": null,
   "metadata": {
    "collapsed": false
   },
   "outputs": [],
   "source": [
    "# Lets look at one raw dataset loaded as a pandas DataFrame\n",
    "df = pd.read_csv(\"data/anonymized/signin_day1_department.csv\")\n",
    "\n",
    "# The last item executed in a cell will become the output. For a DataFrame, this\n",
    "# will be a nicely rendered table\n",
    "df"
   ]
  },
  {
   "cell_type": "code",
   "execution_count": null,
   "metadata": {
    "collapsed": false
   },
   "outputs": [],
   "source": [
    "# Lets make a bar chart with the counts from each department\n",
    "counts = df.department.value_counts()\n",
    "counts.plot(kind=\"barh\")\n",
    "plt.show()"
   ]
  },
  {
   "cell_type": "code",
   "execution_count": null,
   "metadata": {
    "collapsed": false
   },
   "outputs": [],
   "source": [
    "# Since departments are sometimes called by multiple names, we can write a function to make them all the same\n",
    "\n",
    "def correct_department(dept_name):\n",
    "    \"\"\"\n",
    "    Correct department names so there aren't apparent duplicates.\n",
    "    \"\"\"\n",
    "    # Create a dictionary for department aliases that we can look up\n",
    "    aliases = {\"OE\": \"Ocean Engineering\",\n",
    "               \"ME\": \"Mechanical Engineering\",\n",
    "               \"Earth Science\": \"Earth Sciences\",\n",
    "               \"EOS\": \"Earth Sciences\",\n",
    "               \"OPAL\": \"Earth Sciences\"}\n",
    "    # Add some rules for fixing department names\n",
    "    if dept_name in aliases.keys():\n",
    "        return aliases[dept_name]\n",
    "    elif \" \".join(dept_name.split()[:2]) in aliases.keys(): # Matching first two words\n",
    "        return aliases[\" \".join(dept_name.split()[:2])]\n",
    "    elif \"oceanog\" in dept_name.lower():\n",
    "        return \"Earth Sciences\"\n",
    "    elif \"civil\" in dept_name.lower():\n",
    "        return \"Civil Engineering\"\n",
    "    elif dept_name.isupper():\n",
    "        return dept_name\n",
    "    else:\n",
    "        # Return the name formetted with title case\n",
    "        return dept_name.title()\n",
    "\n",
    "# Let's see how it works on the previously loaded DataFrame `df`\n",
    "# Note we're using a \"list comprehension\" to create a list in one line\n",
    "df.department = [correct_department(d) for d in df.department]\n",
    "\n",
    "# Take a look at the value counts for the corrected DataFrame\n",
    "df.department.value_counts()"
   ]
  },
  {
   "cell_type": "code",
   "execution_count": null,
   "metadata": {
    "collapsed": false
   },
   "outputs": [],
   "source": [
    "# Let's wrap all of that into a function for loading data and correcting department name\n",
    "def load_data(time=\"interested\", quantity=\"department\"):\n",
    "    \"\"\"\n",
    "    Load CSV data from a specified time in \n",
    "    `[\"interested\", \"registered\", \"signin_day1\", \"signin_day2\"]`\n",
    "    then correct names and return a Series with value counts for the \n",
    "    specified quantity.\n",
    "    \"\"\"\n",
    "    # Create a file name using Python's new style string formatting\n",
    "    fname = \"data/anonymized/{}_{}.csv\".format(time, quantity)\n",
    "    # Load CSV data using Pandas\n",
    "    df = pd.read_csv(fname)\n",
    "    # Correct department name\n",
    "    if quantity == \"department\":\n",
    "        df.department = [correct_department(d) for d in df.department]\n",
    "    return df[quantity].value_counts()\n",
    "            \n",
    "# Test it out\n",
    "load_data(\"interested\", \"department\")"
   ]
  },
  {
   "cell_type": "code",
   "execution_count": null,
   "metadata": {
    "collapsed": false
   },
   "outputs": [],
   "source": [
    "# We now need a function to fix the job title column\n",
    "def correct_title(title):\n",
    "    \"\"\"\n",
    "    Return properly formatted job title.\n",
    "    \"\"\"\n",
    "    # Make sure title is a string\n",
    "    title = str(title)\n",
    "    if \"grad student\" in title.lower():\n",
    "        return \"Grad student\"\n",
    "    # We will group all professors together\n",
    "    if \"professor\" in title.lower():\n",
    "        return \"Professor\"\n",
    "    else:\n",
    "        return \"Research staff\"\n",
    "    \n",
    "# Let's write a test for that function\n",
    "def test_correct_title():\n",
    "    assert correct_title(\"Scientific Data Analyst\") == \"Research staff\"\n",
    "    assert correct_title(\"Research scientist\") == \"Research staff\"\n",
    "    assert correct_title(\"Grad student\") == \"Grad student\"\n",
    "    assert correct_title(\"Bob Johnson Professor of Awesome Stuff\") == \"Professor\"\n",
    "    print(\"Passed\")\n",
    "\n",
    "# Run the test\n",
    "test_correct_title()"
   ]
  },
  {
   "cell_type": "code",
   "execution_count": null,
   "metadata": {
    "collapsed": false
   },
   "outputs": [],
   "source": [
    "# Update the load data function to correct job title\n",
    "\n",
    "def load_data(time=\"interested\", quantity=\"department\"):\n",
    "    \"\"\"\n",
    "    Load CSV data from a specified time in \n",
    "    `[\"interested\", \"registered\", \"signin_day1\", \"signin_day2\"]`\n",
    "    then correct names and return a Series with value counts for the \n",
    "    specified quantity.\n",
    "    \"\"\"\n",
    "    # Create a file name using Python's new style string formatting\n",
    "    fname = \"data/anonymized/{}_{}.csv\".format(time, quantity)\n",
    "    # Load CSV data using Pandas\n",
    "    df = pd.read_csv(fname)\n",
    "    # Correct department name\n",
    "    if quantity == \"department\":\n",
    "        df.department = [correct_department(d) for d in df.department]\n",
    "    # Correct job title\n",
    "    elif quantity == \"title\":\n",
    "        df.title = [correct_title(t) for t in df.title]\n",
    "    return df[quantity].value_counts()\n",
    "            \n",
    "# Test it out\n",
    "load_data(\"interested\", \"title\")"
   ]
  },
  {
   "cell_type": "code",
   "execution_count": null,
   "metadata": {
    "collapsed": false
   },
   "outputs": [],
   "source": [
    "# Now we need a function to load data from all times\n",
    "def load_all_times(quantity=\"department\"):\n",
    "    \"\"\"\n",
    "    Loads data for a specified quantity over all times.\n",
    "    \"\"\"\n",
    "    # Create empty DataFrame\n",
    "    df = pd.DataFrame()\n",
    "    for time, timename in [(\"interested\",\"Interested\"), \n",
    "                           (\"registered\", \"Registered\"),\n",
    "                           (\"signin_day1\", \"Signed-in day 1\"),\n",
    "                           (\"signin_day2\", \"Signed-in day 2\")]:\n",
    "        df[timename] = load_data(time, quantity)\n",
    "    df.index.name = quantity.title()\n",
    "    # Replace NaNs with zeros since these are counts\n",
    "    df = df.fillna(0)\n",
    "    return df\n",
    "\n",
    "load_all_times(quantity=\"title\")"
   ]
  },
  {
   "cell_type": "code",
   "execution_count": null,
   "metadata": {
    "collapsed": false
   },
   "outputs": [],
   "source": [
    "# Lets try making a stacked bar chart to see the departmental representation\n",
    "\n",
    "# Load the department data for all times\n",
    "df = load_all_times(\"department\")\n",
    "\n",
    "# Create a figure and set of axes using matplotlib\n",
    "fig, ax = plt.subplots()\n",
    "\n",
    "# Plot the DataFrame as a stacked bar chart to the axes we just created\n",
    "df.plot(ax=ax, kind=\"bar\", stacked=True)\n",
    "\n",
    "# Add a legend and put this outside the plot\n",
    "# From http://matplotlib.org/users/legend_guide.html#legend-location\n",
    "ax.legend(bbox_to_anchor=(1.05, 1), loc=2, borderaxespad=0.)"
   ]
  },
  {
   "cell_type": "code",
   "execution_count": null,
   "metadata": {
    "collapsed": false
   },
   "outputs": [],
   "source": [
    "# That last plot didn't look quite right. We wanted the x-axis to be a \"pseudo-time.\"\n",
    "# We can fix this by simply transposing the DataFrame before plotting.\n",
    "# We also want the x-labels to be horizontal. Looking at the pandas docs we can see\n",
    "# there is a `rot` parameter we can pass to the plot method\n",
    "\n",
    "fig, ax = plt.subplots(figsize=(9, 5))\n",
    "df.transpose().plot(ax=ax, kind=\"bar\", stacked=True, rot=0)\n",
    "ax.set_ylabel(\"Number of people\")\n",
    "ax.legend(bbox_to_anchor=(1.05, 1), loc=2, borderaxespad=0.)\n",
    "\n",
    "# Call matplotlib.pyplot.show to avoid printing something like \"<matplotlib.legend.Legend at 0x22a39e48>\"\n",
    "plt.show()"
   ]
  },
  {
   "cell_type": "code",
   "execution_count": null,
   "metadata": {
    "collapsed": false
   },
   "outputs": [],
   "source": [
    "# Now let's wrap that plotting routine into a function with an option to save the figure\n",
    "# to the `figures` directory with a specified format (see matplotlib docs for available formats)\n",
    "\n",
    "# At first, the figures were not saving properly with the legend outside the axes\n",
    "# See http://stackoverflow.com/questions/10101700/moving-matplotlib-legend-outside-of-the-axis-makes-it-cutoff-by-the-figure-box\n",
    "\n",
    "def plot_all_times(quantity=\"department\", save=False, savetype=\".png\"):\n",
    "    \"\"\"\n",
    "    Loads data for all time for specified quantity into a DataFrame, then creates\n",
    "    a stacked bar chart from these. \n",
    "    \"\"\"\n",
    "    df = load_all_times(quantity)\n",
    "    fig, ax = plt.subplots(figsize=(9, 5))\n",
    "    df.transpose().plot(ax=ax, kind=\"bar\", stacked=True, rot=0)\n",
    "    ax.set_ylabel(\"Number of people\")\n",
    "    legend = ax.legend(bbox_to_anchor=(1.05, 1), loc=2, borderaxespad=0.)\n",
    "    if save:\n",
    "        if not os.path.isdir(\"figures\"):\n",
    "            os.mkdir(\"figures\")\n",
    "        fname = os.path.join(\"figures\", quantity + savetype)\n",
    "        fig.savefig(fname, bbox_extra_artists=(legend,), bbox_inches=\"tight\")"
   ]
  },
  {
   "cell_type": "code",
   "execution_count": null,
   "metadata": {
    "collapsed": false
   },
   "outputs": [],
   "source": [
    "# Now let's plot both the departmental and job title representations and save some figures\n",
    "\n",
    "plot_all_times(\"department\", save=True, savetype=\".png\")\n",
    "plot_all_times(\"title\", save=True, savetype=\".png\")\n",
    "plt.show()"
   ]
  }
 ],
 "metadata": {
  "kernelspec": {
   "display_name": "Python 2",
   "language": "python",
   "name": "python2"
  },
  "language_info": {
   "codemirror_mode": {
    "name": "ipython",
    "version": 2
   },
   "file_extension": ".py",
   "mimetype": "text/x-python",
   "name": "python",
   "nbconvert_exporter": "python",
   "pygments_lexer": "ipython2",
   "version": "2.7.10"
  }
 },
 "nbformat": 4,
 "nbformat_minor": 0
}
